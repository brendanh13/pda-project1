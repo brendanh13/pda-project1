{
 "cells": [
  {
   "cell_type": "markdown",
   "id": "40e7b24a",
   "metadata": {},
   "source": [
    "# Brendan Heeney\n",
    "# Programming for Data Analysis 2022\n",
    "# Project 1\n",
    "    "
   ]
  },
  {
   "cell_type": "markdown",
   "id": "03509519",
   "metadata": {},
   "source": [
    "The phenomenon I am going to examine is to do with the game of golf and more specifically the factors which influence the outcome of a golfers tee shot.  I will create a dataset of variables associated with golf which will hopefully help us understand the attributes of a golfer and the role they play in a golfers tee shot. For the purpose of this exercise, the data which we will use will be synthesized using Python."
   ]
  },
  {
   "cell_type": "markdown",
   "id": "3e3a4efd",
   "metadata": {},
   "source": [
    "## Analysis"
   ]
  },
  {
   "cell_type": "markdown",
   "id": "55dd53d3",
   "metadata": {},
   "source": [
    "The key concept in this project is synthetic data and therefore we will not be using a full dataset of actual data for analysis. Instead we will be using the Python module called Numpy to help generate the data we will use for the project.\n",
    "To do this, we need to identify variables to be included in the exercise and then examine them briefly to see if we can classify relevant parameters associated with each variable to enable us use the Numpy generator for the dataset of each variable.\n",
    "\n"
   ]
  },
  {
   "cell_type": "markdown",
   "id": "10e4fe96",
   "metadata": {},
   "source": [
    "### Gender"
   ]
  },
  {
   "cell_type": "code",
   "execution_count": null,
   "id": "73915520",
   "metadata": {},
   "outputs": [],
   "source": []
  },
  {
   "cell_type": "markdown",
   "id": "656fc523",
   "metadata": {},
   "source": [
    "### Age"
   ]
  },
  {
   "cell_type": "code",
   "execution_count": null,
   "id": "2ef21277",
   "metadata": {},
   "outputs": [],
   "source": []
  },
  {
   "cell_type": "markdown",
   "id": "87ed56f3",
   "metadata": {},
   "source": [
    "### Handicap"
   ]
  },
  {
   "cell_type": "code",
   "execution_count": null,
   "id": "1b1ecf71",
   "metadata": {},
   "outputs": [],
   "source": []
  },
  {
   "cell_type": "markdown",
   "id": "8b6d8d92",
   "metadata": {},
   "source": [
    "### Swing Speed"
   ]
  },
  {
   "cell_type": "code",
   "execution_count": null,
   "id": "2496d430",
   "metadata": {},
   "outputs": [],
   "source": []
  },
  {
   "cell_type": "markdown",
   "id": "d34c52f9",
   "metadata": {},
   "source": [
    "### Experience"
   ]
  },
  {
   "cell_type": "code",
   "execution_count": null,
   "id": "23dd95ec",
   "metadata": {},
   "outputs": [],
   "source": []
  },
  {
   "cell_type": "code",
   "execution_count": null,
   "id": "827d4078",
   "metadata": {},
   "outputs": [],
   "source": []
  },
  {
   "cell_type": "code",
   "execution_count": null,
   "id": "21b51d9a",
   "metadata": {},
   "outputs": [],
   "source": []
  }
 ],
 "metadata": {
  "kernelspec": {
   "display_name": "Python 3 (ipykernel)",
   "language": "python",
   "name": "python3"
  },
  "language_info": {
   "codemirror_mode": {
    "name": "ipython",
    "version": 3
   },
   "file_extension": ".py",
   "mimetype": "text/x-python",
   "name": "python",
   "nbconvert_exporter": "python",
   "pygments_lexer": "ipython3",
   "version": "3.9.7"
  }
 },
 "nbformat": 4,
 "nbformat_minor": 5
}
